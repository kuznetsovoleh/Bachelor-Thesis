{
 "cells": [
  {
   "cell_type": "code",
   "execution_count": 1,
   "id": "international-effect",
   "metadata": {},
   "outputs": [
    {
     "data": {
      "text/html": [
       "        <script type=\"text/javascript\">\n",
       "        window.PlotlyConfig = {MathJaxConfig: 'local'};\n",
       "        if (window.MathJax) {MathJax.Hub.Config({SVG: {font: \"STIX-Web\"}});}\n",
       "        if (typeof require !== 'undefined') {\n",
       "        require.undef(\"plotly\");\n",
       "        requirejs.config({\n",
       "            paths: {\n",
       "                'plotly': ['https://cdn.plot.ly/plotly-latest.min']\n",
       "            }\n",
       "        });\n",
       "        require(['plotly'], function(Plotly) {\n",
       "            window._Plotly = Plotly;\n",
       "        });\n",
       "        }\n",
       "        </script>\n",
       "        "
      ]
     },
     "metadata": {},
     "output_type": "display_data"
    }
   ],
   "source": [
    "import numpy as np\n",
    "import pandas as pd\n",
    "import matplotlib.pyplot as plt\n",
    "plt.style.use('fivethirtyeight') #fivethirtyeight\n",
    "%matplotlib inline\n",
    "\n",
    "import itertools\n",
    "import os\n",
    "\n",
    "from scipy.stats import boxcox\n",
    "from scipy.special import inv_boxcox\n",
    "\n",
    "import fbprophet\n",
    "\n",
    "from fbprophet import Prophet\n",
    "from fbprophet.plot import add_changepoints_to_plot, plot_cross_validation_metric, plot_plotly\n",
    "from fbprophet.diagnostics import cross_validation\n",
    "from fbprophet.diagnostics import performance_metrics\n",
    "\n",
    "import plotly.graph_objects as go\n",
    "import plotly\n",
    "\n",
    "plotly.offline.init_notebook_mode(connected=True)\n",
    "\n",
    "import logging\n",
    "logging.getLogger('fbprophet').setLevel(logging.ERROR)\n",
    "logging.getLogger('pystan').setLevel(logging.ERROR)\n",
    "\n",
    "import warnings\n",
    "import sys\n",
    "\n",
    "warnings.filterwarnings('ignore')\n",
    "sys.path.append('../functions')\n",
    "\n",
    "from tsplot import tsplot\n",
    "from supress import suppress_stdout_stderr\n",
    "\n",
    "import textwrap\n",
    "\n",
    "figsize = (17, 8)"
   ]
  },
  {
   "cell_type": "markdown",
   "id": "automotive-relaxation",
   "metadata": {},
   "source": [
    "### Created functions"
   ]
  },
  {
   "cell_type": "code",
   "execution_count": 21,
   "id": "potential-uzbekistan",
   "metadata": {},
   "outputs": [],
   "source": [
    "def changepoints_gov_plot(data, changepoints, gov_actions, yax='', title='', data_title='Data', changepoints_title='Changepoints', gov_title='Government actions'):\n",
    "    shapes = list()\n",
    "    \n",
    "    for i in range(len(changepoints)):\n",
    "        shapes.append({'type': 'line',\n",
    "                       'name': 'Changepoint',\n",
    "                       'line': dict(\n",
    "                                color=\"Green\",\n",
    "                                width=2,\n",
    "                                dash=\"dash\"),\n",
    "                       'xref': 'x',\n",
    "                       'yref': 'y',\n",
    "                       'x0': changepoints['ds'][i],\n",
    "                       'y0': changepoints['y'][i] - 10000,\n",
    "                       'x1': changepoints['ds'][i],\n",
    "                       'y1': changepoints['y'][i] + 10000})\n",
    "        \n",
    "    layout = go.Layout(shapes=shapes)\n",
    "    \n",
    "    fig = go.Figure(layout=layout)\n",
    "    \n",
    "    fig.update_layout(\n",
    "        autosize=False,\n",
    "        width=1500,\n",
    "        height=1000,\n",
    "        title=title)\n",
    "    \n",
    "    fig.update_yaxes(title=yax)\n",
    "    fig.update_xaxes(title='Date')\n",
    "    \n",
    "    fig.add_trace(go.Scatter(x=data.ds, \n",
    "                             y=data.y,\n",
    "                             name=data_title\n",
    "                               ))\n",
    "    \n",
    "    fig.add_trace(go.Scatter(x=gov_actions.start, \n",
    "                             y=gov_actions['y'],\n",
    "                             text=gov_actions['Description'],\n",
    "                             name=gov_title, \n",
    "                             mode=\"markers\",\n",
    "                             textposition=\"top left\"))\n",
    "    \n",
    "    fig.add_trace(go.Scatter(x=changepoints['ds'], \n",
    "                         y=changepoints['y'],\n",
    "                         name=changepoints_title, mode='markers',\n",
    "                           ))\n",
    "\n",
    "    for i in range(len(gov_actions)):\n",
    "        # Add text notations of government actions to the plot\n",
    "        fig.add_annotation(\n",
    "                x=gov_actions.start[i],\n",
    "                y=gov_actions['y'][i],\n",
    "                xref=\"x\",\n",
    "                yref=\"y\",\n",
    "                text=gov_actions['Description'][i],\n",
    "                showarrow=True,\n",
    "                font=dict(\n",
    "                    family=\"Courier New, monospace\",\n",
    "                    size=18,\n",
    "                    color=\"#000000\"\n",
    "                    ),\n",
    "                align=\"center\",\n",
    "                arrowhead=1,\n",
    "                arrowsize=1,\n",
    "                arrowwidth=1,\n",
    "                arrowcolor=\"#636363\",\n",
    "                ax=-50 * ((-1) ** i),\n",
    "                ay=-50 * ((-1) ** i),\n",
    "                bordercolor=\"#c7c7c7\",\n",
    "                borderwidth=2,\n",
    "                borderpad=4,\n",
    "                bgcolor=\"#ff7f0e\",\n",
    "                opacity=0.8\n",
    "                )\n",
    "            \n",
    "    config = dict({'editable': True})\n",
    "\n",
    "    fig.show(config=config)"
   ]
  },
  {
   "cell_type": "markdown",
   "id": "superior-jacob",
   "metadata": {},
   "source": [
    "### Data preparation"
   ]
  },
  {
   "cell_type": "code",
   "execution_count": 3,
   "id": "confused-reservation",
   "metadata": {},
   "outputs": [
    {
     "data": {
      "text/html": [
       "<div>\n",
       "<style scoped>\n",
       "    .dataframe tbody tr th:only-of-type {\n",
       "        vertical-align: middle;\n",
       "    }\n",
       "\n",
       "    .dataframe tbody tr th {\n",
       "        vertical-align: top;\n",
       "    }\n",
       "\n",
       "    .dataframe thead th {\n",
       "        text-align: right;\n",
       "    }\n",
       "</style>\n",
       "<table border=\"1\" class=\"dataframe\">\n",
       "  <thead>\n",
       "    <tr style=\"text-align: right;\">\n",
       "      <th></th>\n",
       "      <th>start</th>\n",
       "      <th>end</th>\n",
       "      <th>Description</th>\n",
       "    </tr>\n",
       "  </thead>\n",
       "  <tbody>\n",
       "    <tr>\n",
       "      <th>48</th>\n",
       "      <td>2021-03-15</td>\n",
       "      <td>NaT</td>\n",
       "      <td>the government has approved mandatory testing ...</td>\n",
       "    </tr>\n",
       "    <tr>\n",
       "      <th>49</th>\n",
       "      <td>2021-03-22</td>\n",
       "      <td>NaT</td>\n",
       "      <td>extended the lockdown announced by the governm...</td>\n",
       "    </tr>\n",
       "    <tr>\n",
       "      <th>50</th>\n",
       "      <td>2021-04-07</td>\n",
       "      <td>NaT</td>\n",
       "      <td>the current Minister of Health, Jan Blatný, wa...</td>\n",
       "    </tr>\n",
       "    <tr>\n",
       "      <th>51</th>\n",
       "      <td>2021-04-12</td>\n",
       "      <td>NaT</td>\n",
       "      <td>part of the measures have been loosened</td>\n",
       "    </tr>\n",
       "    <tr>\n",
       "      <th>52</th>\n",
       "      <td>2021-05-03</td>\n",
       "      <td>NaT</td>\n",
       "      <td>Rotary teaching of secondary school pupils in ...</td>\n",
       "    </tr>\n",
       "  </tbody>\n",
       "</table>\n",
       "</div>"
      ],
      "text/plain": [
       "        start end                                        Description\n",
       "48 2021-03-15 NaT  the government has approved mandatory testing ...\n",
       "49 2021-03-22 NaT  extended the lockdown announced by the governm...\n",
       "50 2021-04-07 NaT  the current Minister of Health, Jan Blatný, wa...\n",
       "51 2021-04-12 NaT            part of the measures have been loosened\n",
       "52 2021-05-03 NaT  Rotary teaching of secondary school pupils in ..."
      ]
     },
     "execution_count": 3,
     "metadata": {},
     "output_type": "execute_result"
    }
   ],
   "source": [
    "# Data set with government actions\n",
    "opatreni = pd.read_csv('../opatreni-04-05.csv', delimiter=';').drop(['Unnamed: 3'], axis=1)[:53]\n",
    "opatreni['start'] = pd.to_datetime(opatreni['start'], format='%d.%m.%Y')\n",
    "opatreni['end'] = pd.to_datetime(opatreni['end'], format='%d.%m.%Y')\n",
    "opatreni.tail()"
   ]
  },
  {
   "cell_type": "code",
   "execution_count": 4,
   "id": "bottom-bernard",
   "metadata": {},
   "outputs": [
    {
     "data": {
      "text/html": [
       "<div>\n",
       "<style scoped>\n",
       "    .dataframe tbody tr th:only-of-type {\n",
       "        vertical-align: middle;\n",
       "    }\n",
       "\n",
       "    .dataframe tbody tr th {\n",
       "        vertical-align: top;\n",
       "    }\n",
       "\n",
       "    .dataframe thead th {\n",
       "        text-align: right;\n",
       "    }\n",
       "</style>\n",
       "<table border=\"1\" class=\"dataframe\">\n",
       "  <thead>\n",
       "    <tr style=\"text-align: right;\">\n",
       "      <th></th>\n",
       "      <th>ds</th>\n",
       "      <th>y</th>\n",
       "    </tr>\n",
       "  </thead>\n",
       "  <tbody>\n",
       "    <tr>\n",
       "      <th>0</th>\n",
       "      <td>2020-01-27</td>\n",
       "      <td>0</td>\n",
       "    </tr>\n",
       "    <tr>\n",
       "      <th>1</th>\n",
       "      <td>2020-01-28</td>\n",
       "      <td>0</td>\n",
       "    </tr>\n",
       "    <tr>\n",
       "      <th>2</th>\n",
       "      <td>2020-01-29</td>\n",
       "      <td>0</td>\n",
       "    </tr>\n",
       "    <tr>\n",
       "      <th>3</th>\n",
       "      <td>2020-01-30</td>\n",
       "      <td>0</td>\n",
       "    </tr>\n",
       "    <tr>\n",
       "      <th>4</th>\n",
       "      <td>2020-01-31</td>\n",
       "      <td>0</td>\n",
       "    </tr>\n",
       "  </tbody>\n",
       "</table>\n",
       "</div>"
      ],
      "text/plain": [
       "          ds  y\n",
       "0 2020-01-27  0\n",
       "1 2020-01-28  0\n",
       "2 2020-01-29  0\n",
       "3 2020-01-30  0\n",
       "4 2020-01-31  0"
      ]
     },
     "execution_count": 4,
     "metadata": {},
     "output_type": "execute_result"
    }
   ],
   "source": [
    "# Data set with amount of people infected data\n",
    "data = pd.read_csv('../data/nakazeni-vyleceni-umrti-testy-04-05.csv')\n",
    "data['datum'] = pd.to_datetime(data['datum'])\n",
    "# Original data time series (Comulative amount of infected)\n",
    "infected = data[['datum', 'kumulativni_pocet_nakazenych']]\n",
    "# Rename columns into Prophet standart\n",
    "infected.columns = ['ds', 'y']\n",
    "infected.head()"
   ]
  },
  {
   "cell_type": "code",
   "execution_count": 10,
   "id": "billion-enclosure",
   "metadata": {},
   "outputs": [
    {
     "name": "stdout",
     "output_type": "stream",
     "text": [
      "2020-03-01 - 2020-04-06: mean amount of new cases = 65.7\n",
      "2020-04-06 - 2020-04-21: mean amount of new cases = 154.3\n",
      "2020-04-21 - 2020-05-06: mean amount of new cases = 66.5\n",
      "2020-05-06 - 2020-05-21: mean amount of new cases = 55.8\n",
      "2020-05-21 - 2020-06-05: mean amount of new cases = 52.4\n",
      "2020-06-05 - 2020-06-20: mean amount of new cases = 61.0\n",
      "2020-06-20 - 2020-07-04: mean amount of new cases = 136.5\n",
      "2020-07-04 - 2020-07-19: mean amount of new cases = 102.1\n",
      "2020-07-19 - 2020-08-03: mean amount of new cases = 194.7\n",
      "2020-08-03 - 2020-08-18: mean amount of new cases = 227.7\n",
      "2020-08-18 - 2020-09-02: mean amount of new cases = 327.7\n",
      "2020-09-02 - 2020-09-17: mean amount of new cases = 1060.1\n",
      "2020-09-17 - 2020-10-02: mean amount of new cases = 2216.1\n",
      "2020-10-02 - 2020-10-17: mean amount of new cases = 5723.9\n",
      "2020-10-17 - 2020-11-01: mean amount of new cases = 11665.0\n",
      "2020-11-01 - 2020-11-16: mean amount of new cases = 8337.3\n",
      "2020-11-16 - 2020-12-01: mean amount of new cases = 4209.7\n",
      "2020-12-01 - 2020-12-16: mean amount of new cases = 4724.9\n",
      "2020-12-16 - 2020-12-30: mean amount of new cases = 7693.8\n",
      "2020-12-30 - 2021-01-14: mean amount of new cases = 11002.9\n",
      "2021-01-14 - 2021-01-29: mean amount of new cases = 7072.2\n",
      "2021-01-29 - 2021-02-13: mean amount of new cases = 7343.9\n",
      "2021-02-13 - 2021-02-28: mean amount of new cases = 10169.4\n",
      "2021-02-28 - 2021-03-15: mean amount of new cases = 11126.5\n",
      "2021-03-15 - 2021-03-30: mean amount of new cases = 8083.3\n",
      "2021-03-30 - 2020-05-03: mean amount of new cases = 3256.9\n"
     ]
    }
   ],
   "source": [
    "for i in range(len(changepoints.ds)):\n",
    "    if i == 0:\n",
    "        mean_new_cases = np.mean(infected_diff[infected_diff['ds'] < \"2020-04-06\"]['y'])\n",
    "        print(f'2020-03-01 - {changepoints[\"ds\"][i]}: mean amount of new cases = {mean_new_cases:0.1f}')\n",
    "        mean_new_cases = np.mean(infected_diff[(changepoints['ds'][i] <= infected_diff['ds']) & (infected_diff['ds'] < changepoints['ds'][i+1])]['y'])\n",
    "        print(f'{changepoints[\"ds\"][i]} - {changepoints[\"ds\"][i+1]}: mean amount of new cases = {mean_new_cases:0.1f}')\n",
    "    elif i == len(changepoints.ds) - 1:\n",
    "        mean_new_cases = np.mean(infected_diff[(changepoints['ds'][i] <= infected_diff['ds']) & (infected_diff['ds'] < \"2021-05-03\")]['y'])\n",
    "        print(f'{changepoints[\"ds\"][i]} - 2020-05-03: mean amount of new cases = {mean_new_cases:0.1f}')\n",
    "    else:\n",
    "        mean_new_cases = np.mean(infected_diff[(changepoints['ds'][i] <= infected_diff['ds']) & (infected_diff['ds'] < changepoints['ds'][i+1])]['y'])\n",
    "        print(f'{changepoints[\"ds\"][i]} - {changepoints[\"ds\"][i+1]}: mean amount of new cases = {mean_new_cases:0.1f}')"
   ]
  },
  {
   "cell_type": "code",
   "execution_count": 11,
   "id": "expensive-memorial",
   "metadata": {},
   "outputs": [
    {
     "data": {
      "text/html": [
       "<div>\n",
       "<style scoped>\n",
       "    .dataframe tbody tr th:only-of-type {\n",
       "        vertical-align: middle;\n",
       "    }\n",
       "\n",
       "    .dataframe tbody tr th {\n",
       "        vertical-align: top;\n",
       "    }\n",
       "\n",
       "    .dataframe thead th {\n",
       "        text-align: right;\n",
       "    }\n",
       "</style>\n",
       "<table border=\"1\" class=\"dataframe\">\n",
       "  <thead>\n",
       "    <tr style=\"text-align: right;\">\n",
       "      <th></th>\n",
       "      <th>start</th>\n",
       "      <th>end</th>\n",
       "      <th>Description</th>\n",
       "      <th>y</th>\n",
       "    </tr>\n",
       "  </thead>\n",
       "  <tbody>\n",
       "    <tr>\n",
       "      <th>0</th>\n",
       "      <td>2020-03-02</td>\n",
       "      <td>NaT</td>\n",
       "      <td>Measures to reduce the risks of cross-border m...</td>\n",
       "      <td>3</td>\n",
       "    </tr>\n",
       "    <tr>\n",
       "      <th>1</th>\n",
       "      <td>2020-03-11</td>\n",
       "      <td>NaT</td>\n",
       "      <td>All primary, secondary, higher vocational and ...</td>\n",
       "      <td>95</td>\n",
       "    </tr>\n",
       "    <tr>\n",
       "      <th>2</th>\n",
       "      <td>2020-03-12</td>\n",
       "      <td>2020-04-11</td>\n",
       "      <td>On March 12, from 2 pm, a state of emergency w...</td>\n",
       "      <td>117</td>\n",
       "    </tr>\n",
       "    <tr>\n",
       "      <th>3</th>\n",
       "      <td>2020-03-14</td>\n",
       "      <td>2020-03-24</td>\n",
       "      <td>The operation of restaurants and shops was ban...</td>\n",
       "      <td>190</td>\n",
       "    </tr>\n",
       "    <tr>\n",
       "      <th>4</th>\n",
       "      <td>2020-03-16</td>\n",
       "      <td>NaT</td>\n",
       "      <td>State borders have been closed, with few excep...</td>\n",
       "      <td>384</td>\n",
       "    </tr>\n",
       "  </tbody>\n",
       "</table>\n",
       "</div>"
      ],
      "text/plain": [
       "       start        end                                        Description  \\\n",
       "0 2020-03-02        NaT  Measures to reduce the risks of cross-border m...   \n",
       "1 2020-03-11        NaT  All primary, secondary, higher vocational and ...   \n",
       "2 2020-03-12 2020-04-11  On March 12, from 2 pm, a state of emergency w...   \n",
       "3 2020-03-14 2020-03-24  The operation of restaurants and shops was ban...   \n",
       "4 2020-03-16        NaT  State borders have been closed, with few excep...   \n",
       "\n",
       "     y  \n",
       "0    3  \n",
       "1   95  \n",
       "2  117  \n",
       "3  190  \n",
       "4  384  "
      ]
     },
     "execution_count": 11,
     "metadata": {},
     "output_type": "execute_result"
    }
   ],
   "source": [
    "# Gov. act. ds formatting for ploting\n",
    "value = pd.DataFrame(infected[infected['ds'].isin(opatreni.start)]['y']).rename({'y': 'value'}).reset_index().drop(['index'], axis=1)\n",
    "opatreni_plot = pd.concat([opatreni, value], axis=1)\n",
    "opatreni_plot['Description'] = opatreni_plot['Description'].apply(\n",
    "    lambda t: \"<br>\".join(textwrap.wrap(t))\n",
    ")\n",
    "opatreni_plot.head()"
   ]
  },
  {
   "cell_type": "code",
   "execution_count": 12,
   "id": "appointed-module",
   "metadata": {},
   "outputs": [
    {
     "data": {
      "text/html": [
       "<div>\n",
       "<style scoped>\n",
       "    .dataframe tbody tr th:only-of-type {\n",
       "        vertical-align: middle;\n",
       "    }\n",
       "\n",
       "    .dataframe tbody tr th {\n",
       "        vertical-align: top;\n",
       "    }\n",
       "\n",
       "    .dataframe thead th {\n",
       "        text-align: right;\n",
       "    }\n",
       "</style>\n",
       "<table border=\"1\" class=\"dataframe\">\n",
       "  <thead>\n",
       "    <tr style=\"text-align: right;\">\n",
       "      <th></th>\n",
       "      <th>ds</th>\n",
       "      <th>y</th>\n",
       "    </tr>\n",
       "  </thead>\n",
       "  <tbody>\n",
       "    <tr>\n",
       "      <th>0</th>\n",
       "      <td>2020-04-06</td>\n",
       "      <td>4834</td>\n",
       "    </tr>\n",
       "    <tr>\n",
       "      <th>1</th>\n",
       "      <td>2020-04-21</td>\n",
       "      <td>7045</td>\n",
       "    </tr>\n",
       "    <tr>\n",
       "      <th>2</th>\n",
       "      <td>2020-05-06</td>\n",
       "      <td>7989</td>\n",
       "    </tr>\n",
       "    <tr>\n",
       "      <th>3</th>\n",
       "      <td>2020-05-21</td>\n",
       "      <td>8782</td>\n",
       "    </tr>\n",
       "    <tr>\n",
       "      <th>4</th>\n",
       "      <td>2020-06-05</td>\n",
       "      <td>9568</td>\n",
       "    </tr>\n",
       "  </tbody>\n",
       "</table>\n",
       "</div>"
      ],
      "text/plain": [
       "          ds     y\n",
       "0 2020-04-06  4834\n",
       "1 2020-04-21  7045\n",
       "2 2020-05-06  7989\n",
       "3 2020-05-21  8782\n",
       "4 2020-06-05  9568"
      ]
     },
     "execution_count": 12,
     "metadata": {},
     "output_type": "execute_result"
    }
   ],
   "source": [
    "# Changepoints data\n",
    "changepoints = pd.read_csv('../data/changepoints-04-05.csv').drop(['Unnamed: 0'], axis=1)\n",
    "c_value = pd.DataFrame(infected[infected['ds'].isin(changepoints.ds)]['y']).rename({'y': 'value'}).reset_index().drop(['index'], axis=1)\n",
    "changepoints_plot = pd.concat([changepoints, c_value], axis=1)\n",
    "changepoints_plot['ds'] = pd.to_datetime(changepoints_plot['ds'])\n",
    "changepoints_plot.head()"
   ]
  },
  {
   "cell_type": "markdown",
   "id": "bottom-restaurant",
   "metadata": {},
   "source": [
    "### Amount of infected ts visualization with trend changepoints and government actions"
   ]
  },
  {
   "cell_type": "code",
   "execution_count": 24,
   "id": "bigger-textbook",
   "metadata": {},
   "outputs": [
    {
     "data": {
      "application/vnd.plotly.v1+json": {
       "config": {
        "editable": true,
        "plotlyServerURL": "https://plot.ly"
       },
       "data": [
        {
         "name": "Observed data",
         "type": "scatter",
         "x": [
          "2020-01-27T00:00:00",
          "2020-01-28T00:00:00",
          "2020-01-29T00:00:00",
          "2020-01-30T00:00:00",
          "2020-01-31T00:00:00",
          "2020-02-01T00:00:00",
          "2020-02-02T00:00:00",
          "2020-02-03T00:00:00",
          "2020-02-04T00:00:00",
          "2020-02-05T00:00:00",
          "2020-02-06T00:00:00",
          "2020-02-07T00:00:00",
          "2020-02-08T00:00:00",
          "2020-02-09T00:00:00",
          "2020-02-10T00:00:00",
          "2020-02-11T00:00:00",
          "2020-02-12T00:00:00",
          "2020-02-13T00:00:00",
          "2020-02-14T00:00:00",
          "2020-02-15T00:00:00",
          "2020-02-16T00:00:00",
          "2020-02-17T00:00:00",
          "2020-02-18T00:00:00",
          "2020-02-19T00:00:00",
          "2020-02-20T00:00:00",
          "2020-02-21T00:00:00",
          "2020-02-22T00:00:00",
          "2020-02-23T00:00:00",
          "2020-02-24T00:00:00",
          "2020-02-25T00:00:00",
          "2020-02-26T00:00:00",
          "2020-02-27T00:00:00",
          "2020-02-28T00:00:00",
          "2020-02-29T00:00:00",
          "2020-03-01T00:00:00",
          "2020-03-02T00:00:00",
          "2020-03-03T00:00:00",
          "2020-03-04T00:00:00",
          "2020-03-05T00:00:00",
          "2020-03-06T00:00:00",
          "2020-03-07T00:00:00",
          "2020-03-08T00:00:00",
          "2020-03-09T00:00:00",
          "2020-03-10T00:00:00",
          "2020-03-11T00:00:00",
          "2020-03-12T00:00:00",
          "2020-03-13T00:00:00",
          "2020-03-14T00:00:00",
          "2020-03-15T00:00:00",
          "2020-03-16T00:00:00",
          "2020-03-17T00:00:00",
          "2020-03-18T00:00:00",
          "2020-03-19T00:00:00",
          "2020-03-20T00:00:00",
          "2020-03-21T00:00:00",
          "2020-03-22T00:00:00",
          "2020-03-23T00:00:00",
          "2020-03-24T00:00:00",
          "2020-03-25T00:00:00",
          "2020-03-26T00:00:00",
          "2020-03-27T00:00:00",
          "2020-03-28T00:00:00",
          "2020-03-29T00:00:00",
          "2020-03-30T00:00:00",
          "2020-03-31T00:00:00",
          "2020-04-01T00:00:00",
          "2020-04-02T00:00:00",
          "2020-04-03T00:00:00",
          "2020-04-04T00:00:00",
          "2020-04-05T00:00:00",
          "2020-04-06T00:00:00",
          "2020-04-07T00:00:00",
          "2020-04-08T00:00:00",
          "2020-04-09T00:00:00",
          "2020-04-10T00:00:00",
          "2020-04-11T00:00:00",
          "2020-04-12T00:00:00",
          "2020-04-13T00:00:00",
          "2020-04-14T00:00:00",
          "2020-04-15T00:00:00",
          "2020-04-16T00:00:00",
          "2020-04-17T00:00:00",
          "2020-04-18T00:00:00",
          "2020-04-19T00:00:00",
          "2020-04-20T00:00:00",
          "2020-04-21T00:00:00",
          "2020-04-22T00:00:00",
          "2020-04-23T00:00:00",
          "2020-04-24T00:00:00",
          "2020-04-25T00:00:00",
          "2020-04-26T00:00:00",
          "2020-04-27T00:00:00",
          "2020-04-28T00:00:00",
          "2020-04-29T00:00:00",
          "2020-04-30T00:00:00",
          "2020-05-01T00:00:00",
          "2020-05-02T00:00:00",
          "2020-05-03T00:00:00",
          "2020-05-04T00:00:00",
          "2020-05-05T00:00:00",
          "2020-05-06T00:00:00",
          "2020-05-07T00:00:00",
          "2020-05-08T00:00:00",
          "2020-05-09T00:00:00",
          "2020-05-10T00:00:00",
          "2020-05-11T00:00:00",
          "2020-05-12T00:00:00",
          "2020-05-13T00:00:00",
          "2020-05-14T00:00:00",
          "2020-05-15T00:00:00",
          "2020-05-16T00:00:00",
          "2020-05-17T00:00:00",
          "2020-05-18T00:00:00",
          "2020-05-19T00:00:00",
          "2020-05-20T00:00:00",
          "2020-05-21T00:00:00",
          "2020-05-22T00:00:00",
          "2020-05-23T00:00:00",
          "2020-05-24T00:00:00",
          "2020-05-25T00:00:00",
          "2020-05-26T00:00:00",
          "2020-05-27T00:00:00",
          "2020-05-28T00:00:00",
          "2020-05-29T00:00:00",
          "2020-05-30T00:00:00",
          "2020-05-31T00:00:00",
          "2020-06-01T00:00:00",
          "2020-06-02T00:00:00",
          "2020-06-03T00:00:00",
          "2020-06-04T00:00:00",
          "2020-06-05T00:00:00",
          "2020-06-06T00:00:00",
          "2020-06-07T00:00:00",
          "2020-06-08T00:00:00",
          "2020-06-09T00:00:00",
          "2020-06-10T00:00:00",
          "2020-06-11T00:00:00",
          "2020-06-12T00:00:00",
          "2020-06-13T00:00:00",
          "2020-06-14T00:00:00",
          "2020-06-15T00:00:00",
          "2020-06-16T00:00:00",
          "2020-06-17T00:00:00",
          "2020-06-18T00:00:00",
          "2020-06-19T00:00:00",
          "2020-06-20T00:00:00",
          "2020-06-21T00:00:00",
          "2020-06-22T00:00:00",
          "2020-06-23T00:00:00",
          "2020-06-24T00:00:00"
         ],
         "y": [
          0,
          0,
          0,
          0,
          0,
          0,
          0,
          0,
          0,
          0,
          0,
          0,
          0,
          0,
          0,
          0,
          0,
          0,
          0,
          0,
          0,
          0,
          0,
          0,
          0,
          0,
          0,
          0,
          0,
          0,
          0,
          0,
          0,
          0,
          3,
          3,
          5,
          6,
          9,
          20,
          27,
          33,
          39,
          64,
          95,
          117,
          142,
          190,
          299,
          384,
          451,
          561,
          767,
          891,
          1050,
          1165,
          1291,
          1476,
          1768,
          2027,
          2404,
          2667,
          2826,
          3010,
          3314,
          3597,
          3865,
          4198,
          4481,
          4598,
          4834,
          5030,
          5324,
          5581,
          5744,
          5914,
          6003,
          6071,
          6153,
          6313,
          6445,
          6561,
          6666,
          6758,
          6912,
          7045,
          7144,
          7199,
          7285,
          7364,
          7416,
          7457,
          7517,
          7592,
          7696,
          7751,
          7769,
          7795,
          7833,
          7910,
          7989,
          8047,
          8093,
          8111,
          8139,
          8195,
          8240,
          8290,
          8372,
          8427,
          8478,
          8498,
          8611,
          8673,
          8747,
          8782,
          8841,
          8918,
          8983,
          9030,
          9081,
          9118,
          9172,
          9229,
          9263,
          9301,
          9335,
          9398,
          9472,
          9533,
          9568,
          9606,
          9667,
          9736,
          9791,
          9864,
          9928,
          9980,
          10033,
          10066,
          10106,
          10153,
          10204,
          10322,
          10448,
          10490,
          10540,
          10604,
          10693,
          10820
         ]
        },
        {
         "mode": "markers",
         "name": "Government actions",
         "text": [
          "Measures to reduce the risks of cross-border movement of persons have<br>been gradually adopted and strengthened",
          "All primary, secondary, higher vocational and university schools in<br>the Czech Republic were closed until further notice.",
          "On March 12, from 2 pm, a state of emergency was declared in the Czech<br>Republic for a period of 30 days.",
          "The operation of restaurants and shops was banned (with exceptions).",
          "State borders have been closed, with few exceptions",
          "An obligation to cover her mouth and nose outside the residence has<br>been declared",
          "Extension of the state of emergency",
          "The first of four releases of quarantine measures according to the<br>Schedule for the release of business and other activities took place.",
          "The government issued a revised release schedule of business<br>activities",
          "extension of the state of emergency until 17 May 2020.",
          "group events with the participation of up to 100 people were allowed.<br>Open hairdressing, etc.",
          "indoor spaces such as cafes, restaurants, zoos, castles and chateaux<br>were opened. Mass events for up to 300 people are allowed",
          "former Deputy Minister of Health Roman Prymula has left",
          "Zacatek drhe vlny",
          "epidemiologist Rastislav Maďar ended up in a working group of the<br>Minister of Health."
         ],
         "textposition": "top left",
         "type": "scatter",
         "x": [
          "2020-03-02T00:00:00",
          "2020-03-11T00:00:00",
          "2020-03-12T00:00:00",
          "2020-03-14T00:00:00",
          "2020-03-16T00:00:00",
          "2020-03-19T00:00:00",
          "2020-04-07T00:00:00",
          "2020-04-20T00:00:00",
          "2020-04-24T00:00:00",
          "2020-04-28T00:00:00",
          "2020-05-11T00:00:00",
          "2020-05-25T00:00:00",
          "2020-05-31T00:00:00",
          "2020-06-01T00:00:00",
          "2020-08-24T00:00:00"
         ],
         "y": [
          3,
          95,
          117,
          190,
          384,
          767,
          5030,
          6912,
          7285,
          7517,
          8195,
          9030,
          9301,
          9335,
          22198
         ]
        },
        {
         "mode": "markers",
         "name": "Changepoints",
         "type": "scatter",
         "x": [
          "2020-04-06T00:00:00",
          "2020-04-21T00:00:00",
          "2020-05-06T00:00:00",
          "2020-05-21T00:00:00",
          "2020-06-05T00:00:00",
          "2020-06-20T00:00:00",
          "2020-07-04T00:00:00",
          "2020-07-19T00:00:00",
          "2020-08-03T00:00:00",
          "2020-08-18T00:00:00"
         ],
         "y": [
          4834,
          7045,
          7989,
          8782,
          9568,
          10490,
          12480,
          13981,
          17018,
          20506
         ]
        }
       ],
       "layout": {
        "annotations": [
         {
          "align": "center",
          "arrowcolor": "#636363",
          "arrowhead": 1,
          "arrowsize": 1,
          "arrowwidth": 1,
          "ax": -291,
          "ay": -79,
          "bgcolor": "#ff7f0e",
          "bordercolor": "#c7c7c7",
          "borderpad": 4,
          "borderwidth": 2,
          "font": {
           "color": "#000000",
           "family": "Courier New, monospace",
           "size": 18
          },
          "opacity": 0.8,
          "showarrow": true,
          "text": "Measures to reduce the risks of cross-border movement of persons have<br>been gradually adopted and strengthened",
          "x": "2020-03-02T00:00:00",
          "xref": "x",
          "y": 3,
          "yref": "y"
         },
         {
          "align": "center",
          "arrowcolor": "#636363",
          "arrowhead": 1,
          "arrowsize": 1,
          "arrowwidth": 1,
          "ax": -369,
          "ay": 53,
          "bgcolor": "#ff7f0e",
          "bordercolor": "#c7c7c7",
          "borderpad": 4,
          "borderwidth": 2,
          "font": {
           "color": "#000000",
           "family": "Courier New, monospace",
           "size": 18
          },
          "opacity": 0.8,
          "showarrow": true,
          "text": "All primary, secondary, higher vocational and university schools in<br>the Czech Republic were closed until further notice.",
          "x": "2020-03-11T00:00:00",
          "xref": "x",
          "y": 95,
          "yref": "y"
         },
         {
          "align": "center",
          "arrowcolor": "#636363",
          "arrowhead": 1,
          "arrowsize": 1,
          "arrowwidth": 1,
          "ax": -307,
          "ay": -194,
          "bgcolor": "#ff7f0e",
          "bordercolor": "#c7c7c7",
          "borderpad": 4,
          "borderwidth": 2,
          "font": {
           "color": "#000000",
           "family": "Courier New, monospace",
           "size": 18
          },
          "opacity": 0.8,
          "showarrow": true,
          "text": "On March 12, from 2 pm, a state of emergency was declared in the Czech<br>Republic for a period of 30 days.",
          "x": "2020-03-11 23:59:37.2153",
          "xref": "x",
          "y": 116.98831295843173,
          "yref": "y"
         },
         {
          "align": "center",
          "arrowcolor": "#636363",
          "arrowhead": 1,
          "arrowsize": 1,
          "arrowwidth": 1,
          "ax": 194,
          "ay": 124,
          "bgcolor": "#ff7f0e",
          "bordercolor": "#c7c7c7",
          "borderpad": 4,
          "borderwidth": 2,
          "font": {
           "color": "#000000",
           "family": "Courier New, monospace",
           "size": 18
          },
          "opacity": 0.8,
          "showarrow": true,
          "text": "The operation of restaurants and shops was banned (with exceptions).",
          "x": "2020-03-14 00:01:08.3545",
          "xref": "x",
          "y": 190.03305623471584,
          "yref": "y"
         },
         {
          "align": "center",
          "arrowcolor": "#636363",
          "arrowhead": 1,
          "arrowsize": 1,
          "arrowwidth": 1,
          "ax": -217,
          "ay": -124,
          "bgcolor": "#ff7f0e",
          "bordercolor": "#c7c7c7",
          "borderpad": 4,
          "borderwidth": 2,
          "font": {
           "color": "#000000",
           "family": "Courier New, monospace",
           "size": 18
          },
          "opacity": 0.8,
          "showarrow": true,
          "text": "State borders have been closed, with few exceptions",
          "x": "2020-03-16 00:00:00.0001",
          "xref": "x",
          "y": 384.09222493887177,
          "yref": "y"
         },
         {
          "align": "center",
          "arrowcolor": "#636363",
          "arrowhead": 1,
          "arrowsize": 1,
          "arrowwidth": 1,
          "ax": 347,
          "ay": 77,
          "bgcolor": "#ff7f0e",
          "bordercolor": "#c7c7c7",
          "borderpad": 4,
          "borderwidth": 2,
          "font": {
           "color": "#000000",
           "family": "Courier New, monospace",
           "size": 18
          },
          "opacity": 0.8,
          "showarrow": true,
          "text": "An obligation to cover her mouth and nose outside the residence has<br>been declared",
          "x": "2020-03-19T00:00:00",
          "xref": "x",
          "y": 767,
          "yref": "y"
         },
         {
          "align": "center",
          "arrowcolor": "#636363",
          "arrowhead": 1,
          "arrowsize": 1,
          "arrowwidth": 1,
          "ax": -334,
          "ay": -72,
          "bgcolor": "#ff7f0e",
          "bordercolor": "#c7c7c7",
          "borderpad": 4,
          "borderwidth": 2,
          "font": {
           "color": "#000000",
           "family": "Courier New, monospace",
           "size": 18
          },
          "opacity": 0.8,
          "showarrow": true,
          "text": "Extension of the state of emergency",
          "x": "2020-04-07T00:00:00",
          "xref": "x",
          "y": 5030,
          "yref": "y"
         },
         {
          "align": "center",
          "arrowcolor": "#636363",
          "arrowhead": 1,
          "arrowsize": 1,
          "arrowwidth": 1,
          "ax": 108,
          "ay": 71,
          "bgcolor": "#ff7f0e",
          "bordercolor": "#c7c7c7",
          "borderpad": 4,
          "borderwidth": 2,
          "font": {
           "color": "#000000",
           "family": "Courier New, monospace",
           "size": 18
          },
          "opacity": 0.8,
          "showarrow": true,
          "text": "The first of four releases of quarantine measures according to the<br>Schedule for the release of business and other activities took place.",
          "x": "2020-06-04 18:44:03.0381",
          "xref": "x",
          "y": 17639.65907090464,
          "yref": "y"
         },
         {
          "align": "center",
          "arrowcolor": "#636363",
          "arrowhead": 1,
          "arrowsize": 1,
          "arrowwidth": 1,
          "ax": -445,
          "ay": -155,
          "bgcolor": "#ff7f0e",
          "bordercolor": "#c7c7c7",
          "borderpad": 4,
          "borderwidth": 2,
          "font": {
           "color": "#000000",
           "family": "Courier New, monospace",
           "size": 18
          },
          "opacity": 0.8,
          "showarrow": true,
          "text": "The government issued a revised release schedule of business<br>activities",
          "x": "2020-04-24T00:00:00",
          "xref": "x",
          "y": 7285,
          "yref": "y"
         },
         {
          "align": "center",
          "arrowcolor": "#636363",
          "arrowhead": 1,
          "arrowsize": 1,
          "arrowwidth": 1,
          "ax": 213,
          "ay": 119,
          "bgcolor": "#ff7f0e",
          "bordercolor": "#c7c7c7",
          "borderpad": 4,
          "borderwidth": 2,
          "font": {
           "color": "#000000",
           "family": "Courier New, monospace",
           "size": 18
          },
          "opacity": 0.8,
          "showarrow": true,
          "text": "extension of the state of emergency until 17 May 2020.",
          "x": "2020-04-28T00:00:00",
          "xref": "x",
          "y": 7517,
          "yref": "y"
         },
         {
          "align": "center",
          "arrowcolor": "#636363",
          "arrowhead": 1,
          "arrowsize": 1,
          "arrowwidth": 1,
          "ax": -511,
          "ay": -199,
          "bgcolor": "#ff7f0e",
          "bordercolor": "#c7c7c7",
          "borderpad": 4,
          "borderwidth": 2,
          "font": {
           "color": "#000000",
           "family": "Courier New, monospace",
           "size": 18
          },
          "opacity": 0.8,
          "showarrow": true,
          "text": "group events with the participation of up to 100 people were allowed.<br>Open hairdressing, etc.",
          "x": "2020-05-11T00:00:00",
          "xref": "x",
          "y": 8195,
          "yref": "y"
         },
         {
          "align": "center",
          "arrowcolor": "#636363",
          "arrowhead": 1,
          "arrowsize": 1,
          "arrowwidth": 1,
          "ax": 12,
          "ay": 108,
          "bgcolor": "#ff7f0e",
          "bordercolor": "#c7c7c7",
          "borderpad": 4,
          "borderwidth": 2,
          "font": {
           "color": "#000000",
           "family": "Courier New, monospace",
           "size": 18
          },
          "opacity": 0.8,
          "showarrow": true,
          "text": "indoor spaces such as cafes, restaurants, zoos, castles and chateaux<br>were opened. Mass events for up to 300 people are allowed",
          "x": "2020-06-07 11:25:03.7976",
          "xref": "x",
          "y": 17729.92929095354,
          "yref": "y"
         },
         {
          "align": "center",
          "arrowcolor": "#636363",
          "arrowhead": 1,
          "arrowsize": 1,
          "arrowwidth": 1,
          "ax": -50,
          "ay": -50,
          "bgcolor": "#ff7f0e",
          "bordercolor": "#c7c7c7",
          "borderpad": 4,
          "borderwidth": 2,
          "font": {
           "color": "#000000",
           "family": "Courier New, monospace",
           "size": 18
          },
          "opacity": 0.8,
          "showarrow": true,
          "text": "former Deputy Minister of Health Roman Prymula has left",
          "x": "2020-06-11 01:48:36.4558",
          "xref": "x",
          "y": 15297.212273838626,
          "yref": "y"
         },
         {
          "align": "center",
          "arrowcolor": "#636363",
          "arrowhead": 1,
          "arrowsize": 1,
          "arrowwidth": 1,
          "ax": 60,
          "ay": 35,
          "bgcolor": "#ff7f0e",
          "bordercolor": "#c7c7c7",
          "borderpad": 4,
          "borderwidth": 2,
          "font": {
           "color": "#000000",
           "family": "Courier New, monospace",
           "size": 18
          },
          "opacity": 0.8,
          "showarrow": true,
          "text": "Zacatek drhe vlny",
          "x": "2020-06-05 05:53:55.4431",
          "xref": "x",
          "y": 16683.099999999995,
          "yref": "y"
         },
         {
          "align": "center",
          "arrowcolor": "#636363",
          "arrowhead": 1,
          "arrowsize": 1,
          "arrowwidth": 1,
          "ax": -50,
          "ay": -50,
          "bgcolor": "#ff7f0e",
          "bordercolor": "#c7c7c7",
          "borderpad": 4,
          "borderwidth": 2,
          "font": {
           "color": "#000000",
           "family": "Courier New, monospace",
           "size": 18
          },
          "opacity": 0.8,
          "showarrow": true,
          "text": "epidemiologist Rastislav Maďar ended up in a working group of the<br>Minister of Health.",
          "x": "2020-08-24T00:00:00",
          "xref": "x",
          "y": 22198,
          "yref": "y"
         }
        ],
        "autosize": false,
        "dragmode": "pan",
        "height": 1000,
        "shapes": [
         {
          "line": {
           "color": "Green",
           "dash": "dash",
           "width": 2
          },
          "name": "Changepoint",
          "type": "line",
          "x0": "2020-04-06T00:00:00",
          "x1": "2020-04-06T00:00:00",
          "xref": "x",
          "y0": -5166,
          "y1": 14834,
          "yref": "y"
         },
         {
          "line": {
           "color": "Green",
           "dash": "dash",
           "width": 2
          },
          "name": "Changepoint",
          "type": "line",
          "x0": "2020-04-21T00:00:00",
          "x1": "2020-04-21T00:00:00",
          "xref": "x",
          "y0": -2955,
          "y1": 17045,
          "yref": "y"
         },
         {
          "line": {
           "color": "Green",
           "dash": "dash",
           "width": 2
          },
          "name": "Changepoint",
          "type": "line",
          "x0": "2020-05-06T00:00:00",
          "x1": "2020-05-06T00:00:00",
          "xref": "x",
          "y0": -2011,
          "y1": 17989,
          "yref": "y"
         },
         {
          "line": {
           "color": "Green",
           "dash": "dash",
           "width": 2
          },
          "name": "Changepoint",
          "type": "line",
          "x0": "2020-05-21T00:00:00",
          "x1": "2020-05-21T00:00:00",
          "xref": "x",
          "y0": -1218,
          "y1": 18782,
          "yref": "y"
         },
         {
          "line": {
           "color": "Green",
           "dash": "dash",
           "width": 2
          },
          "name": "Changepoint",
          "type": "line",
          "x0": "2020-06-05T00:00:00",
          "x1": "2020-06-05T00:00:00",
          "xref": "x",
          "y0": -432,
          "y1": 19568,
          "yref": "y"
         },
         {
          "line": {
           "color": "Green",
           "dash": "dash",
           "width": 2
          },
          "name": "Changepoint",
          "type": "line",
          "x0": "2020-06-20T00:00:00",
          "x1": "2020-06-20T00:00:00",
          "xref": "x",
          "y0": 490,
          "y1": 20490,
          "yref": "y"
         },
         {
          "line": {
           "color": "Green",
           "dash": "dash",
           "width": 2
          },
          "name": "Changepoint",
          "type": "line",
          "x0": "2020-07-04T00:00:00",
          "x1": "2020-07-04T00:00:00",
          "xref": "x",
          "y0": 2480,
          "y1": 22480,
          "yref": "y"
         },
         {
          "line": {
           "color": "Green",
           "dash": "dash",
           "width": 2
          },
          "name": "Changepoint",
          "type": "line",
          "x0": "2020-07-19T00:00:00",
          "x1": "2020-07-19T00:00:00",
          "xref": "x",
          "y0": 3981,
          "y1": 23981,
          "yref": "y"
         },
         {
          "line": {
           "color": "Green",
           "dash": "dash",
           "width": 2
          },
          "name": "Changepoint",
          "type": "line",
          "x0": "2020-08-03T00:00:00",
          "x1": "2020-08-03T00:00:00",
          "xref": "x",
          "y0": 7018,
          "y1": 27018,
          "yref": "y"
         },
         {
          "line": {
           "color": "Green",
           "dash": "dash",
           "width": 2
          },
          "name": "Changepoint",
          "type": "line",
          "x0": "2020-08-18T00:00:00",
          "x1": "2020-08-18T00:00:00",
          "xref": "x",
          "y0": 10506,
          "y1": 30506,
          "yref": "y"
         }
        ],
        "template": {
         "data": {
          "bar": [
           {
            "error_x": {
             "color": "#2a3f5f"
            },
            "error_y": {
             "color": "#2a3f5f"
            },
            "marker": {
             "line": {
              "color": "#E5ECF6",
              "width": 0.5
             }
            },
            "type": "bar"
           }
          ],
          "barpolar": [
           {
            "marker": {
             "line": {
              "color": "#E5ECF6",
              "width": 0.5
             }
            },
            "type": "barpolar"
           }
          ],
          "carpet": [
           {
            "aaxis": {
             "endlinecolor": "#2a3f5f",
             "gridcolor": "white",
             "linecolor": "white",
             "minorgridcolor": "white",
             "startlinecolor": "#2a3f5f"
            },
            "baxis": {
             "endlinecolor": "#2a3f5f",
             "gridcolor": "white",
             "linecolor": "white",
             "minorgridcolor": "white",
             "startlinecolor": "#2a3f5f"
            },
            "type": "carpet"
           }
          ],
          "choropleth": [
           {
            "colorbar": {
             "outlinewidth": 0,
             "ticks": ""
            },
            "type": "choropleth"
           }
          ],
          "contour": [
           {
            "colorbar": {
             "outlinewidth": 0,
             "ticks": ""
            },
            "colorscale": [
             [
              0,
              "#0d0887"
             ],
             [
              0.1111111111111111,
              "#46039f"
             ],
             [
              0.2222222222222222,
              "#7201a8"
             ],
             [
              0.3333333333333333,
              "#9c179e"
             ],
             [
              0.4444444444444444,
              "#bd3786"
             ],
             [
              0.5555555555555556,
              "#d8576b"
             ],
             [
              0.6666666666666666,
              "#ed7953"
             ],
             [
              0.7777777777777778,
              "#fb9f3a"
             ],
             [
              0.8888888888888888,
              "#fdca26"
             ],
             [
              1,
              "#f0f921"
             ]
            ],
            "type": "contour"
           }
          ],
          "contourcarpet": [
           {
            "colorbar": {
             "outlinewidth": 0,
             "ticks": ""
            },
            "type": "contourcarpet"
           }
          ],
          "heatmap": [
           {
            "colorbar": {
             "outlinewidth": 0,
             "ticks": ""
            },
            "colorscale": [
             [
              0,
              "#0d0887"
             ],
             [
              0.1111111111111111,
              "#46039f"
             ],
             [
              0.2222222222222222,
              "#7201a8"
             ],
             [
              0.3333333333333333,
              "#9c179e"
             ],
             [
              0.4444444444444444,
              "#bd3786"
             ],
             [
              0.5555555555555556,
              "#d8576b"
             ],
             [
              0.6666666666666666,
              "#ed7953"
             ],
             [
              0.7777777777777778,
              "#fb9f3a"
             ],
             [
              0.8888888888888888,
              "#fdca26"
             ],
             [
              1,
              "#f0f921"
             ]
            ],
            "type": "heatmap"
           }
          ],
          "heatmapgl": [
           {
            "colorbar": {
             "outlinewidth": 0,
             "ticks": ""
            },
            "colorscale": [
             [
              0,
              "#0d0887"
             ],
             [
              0.1111111111111111,
              "#46039f"
             ],
             [
              0.2222222222222222,
              "#7201a8"
             ],
             [
              0.3333333333333333,
              "#9c179e"
             ],
             [
              0.4444444444444444,
              "#bd3786"
             ],
             [
              0.5555555555555556,
              "#d8576b"
             ],
             [
              0.6666666666666666,
              "#ed7953"
             ],
             [
              0.7777777777777778,
              "#fb9f3a"
             ],
             [
              0.8888888888888888,
              "#fdca26"
             ],
             [
              1,
              "#f0f921"
             ]
            ],
            "type": "heatmapgl"
           }
          ],
          "histogram": [
           {
            "marker": {
             "colorbar": {
              "outlinewidth": 0,
              "ticks": ""
             }
            },
            "type": "histogram"
           }
          ],
          "histogram2d": [
           {
            "colorbar": {
             "outlinewidth": 0,
             "ticks": ""
            },
            "colorscale": [
             [
              0,
              "#0d0887"
             ],
             [
              0.1111111111111111,
              "#46039f"
             ],
             [
              0.2222222222222222,
              "#7201a8"
             ],
             [
              0.3333333333333333,
              "#9c179e"
             ],
             [
              0.4444444444444444,
              "#bd3786"
             ],
             [
              0.5555555555555556,
              "#d8576b"
             ],
             [
              0.6666666666666666,
              "#ed7953"
             ],
             [
              0.7777777777777778,
              "#fb9f3a"
             ],
             [
              0.8888888888888888,
              "#fdca26"
             ],
             [
              1,
              "#f0f921"
             ]
            ],
            "type": "histogram2d"
           }
          ],
          "histogram2dcontour": [
           {
            "colorbar": {
             "outlinewidth": 0,
             "ticks": ""
            },
            "colorscale": [
             [
              0,
              "#0d0887"
             ],
             [
              0.1111111111111111,
              "#46039f"
             ],
             [
              0.2222222222222222,
              "#7201a8"
             ],
             [
              0.3333333333333333,
              "#9c179e"
             ],
             [
              0.4444444444444444,
              "#bd3786"
             ],
             [
              0.5555555555555556,
              "#d8576b"
             ],
             [
              0.6666666666666666,
              "#ed7953"
             ],
             [
              0.7777777777777778,
              "#fb9f3a"
             ],
             [
              0.8888888888888888,
              "#fdca26"
             ],
             [
              1,
              "#f0f921"
             ]
            ],
            "type": "histogram2dcontour"
           }
          ],
          "mesh3d": [
           {
            "colorbar": {
             "outlinewidth": 0,
             "ticks": ""
            },
            "type": "mesh3d"
           }
          ],
          "parcoords": [
           {
            "line": {
             "colorbar": {
              "outlinewidth": 0,
              "ticks": ""
             }
            },
            "type": "parcoords"
           }
          ],
          "pie": [
           {
            "automargin": true,
            "type": "pie"
           }
          ],
          "scatter": [
           {
            "marker": {
             "colorbar": {
              "outlinewidth": 0,
              "ticks": ""
             }
            },
            "type": "scatter"
           }
          ],
          "scatter3d": [
           {
            "line": {
             "colorbar": {
              "outlinewidth": 0,
              "ticks": ""
             }
            },
            "marker": {
             "colorbar": {
              "outlinewidth": 0,
              "ticks": ""
             }
            },
            "type": "scatter3d"
           }
          ],
          "scattercarpet": [
           {
            "marker": {
             "colorbar": {
              "outlinewidth": 0,
              "ticks": ""
             }
            },
            "type": "scattercarpet"
           }
          ],
          "scattergeo": [
           {
            "marker": {
             "colorbar": {
              "outlinewidth": 0,
              "ticks": ""
             }
            },
            "type": "scattergeo"
           }
          ],
          "scattergl": [
           {
            "marker": {
             "colorbar": {
              "outlinewidth": 0,
              "ticks": ""
             }
            },
            "type": "scattergl"
           }
          ],
          "scattermapbox": [
           {
            "marker": {
             "colorbar": {
              "outlinewidth": 0,
              "ticks": ""
             }
            },
            "type": "scattermapbox"
           }
          ],
          "scatterpolar": [
           {
            "marker": {
             "colorbar": {
              "outlinewidth": 0,
              "ticks": ""
             }
            },
            "type": "scatterpolar"
           }
          ],
          "scatterpolargl": [
           {
            "marker": {
             "colorbar": {
              "outlinewidth": 0,
              "ticks": ""
             }
            },
            "type": "scatterpolargl"
           }
          ],
          "scatterternary": [
           {
            "marker": {
             "colorbar": {
              "outlinewidth": 0,
              "ticks": ""
             }
            },
            "type": "scatterternary"
           }
          ],
          "surface": [
           {
            "colorbar": {
             "outlinewidth": 0,
             "ticks": ""
            },
            "colorscale": [
             [
              0,
              "#0d0887"
             ],
             [
              0.1111111111111111,
              "#46039f"
             ],
             [
              0.2222222222222222,
              "#7201a8"
             ],
             [
              0.3333333333333333,
              "#9c179e"
             ],
             [
              0.4444444444444444,
              "#bd3786"
             ],
             [
              0.5555555555555556,
              "#d8576b"
             ],
             [
              0.6666666666666666,
              "#ed7953"
             ],
             [
              0.7777777777777778,
              "#fb9f3a"
             ],
             [
              0.8888888888888888,
              "#fdca26"
             ],
             [
              1,
              "#f0f921"
             ]
            ],
            "type": "surface"
           }
          ],
          "table": [
           {
            "cells": {
             "fill": {
              "color": "#EBF0F8"
             },
             "line": {
              "color": "white"
             }
            },
            "header": {
             "fill": {
              "color": "#C8D4E3"
             },
             "line": {
              "color": "white"
             }
            },
            "type": "table"
           }
          ]
         },
         "layout": {
          "annotationdefaults": {
           "arrowcolor": "#2a3f5f",
           "arrowhead": 0,
           "arrowwidth": 1
          },
          "autotypenumbers": "strict",
          "coloraxis": {
           "colorbar": {
            "outlinewidth": 0,
            "ticks": ""
           }
          },
          "colorscale": {
           "diverging": [
            [
             0,
             "#8e0152"
            ],
            [
             0.1,
             "#c51b7d"
            ],
            [
             0.2,
             "#de77ae"
            ],
            [
             0.3,
             "#f1b6da"
            ],
            [
             0.4,
             "#fde0ef"
            ],
            [
             0.5,
             "#f7f7f7"
            ],
            [
             0.6,
             "#e6f5d0"
            ],
            [
             0.7,
             "#b8e186"
            ],
            [
             0.8,
             "#7fbc41"
            ],
            [
             0.9,
             "#4d9221"
            ],
            [
             1,
             "#276419"
            ]
           ],
           "sequential": [
            [
             0,
             "#0d0887"
            ],
            [
             0.1111111111111111,
             "#46039f"
            ],
            [
             0.2222222222222222,
             "#7201a8"
            ],
            [
             0.3333333333333333,
             "#9c179e"
            ],
            [
             0.4444444444444444,
             "#bd3786"
            ],
            [
             0.5555555555555556,
             "#d8576b"
            ],
            [
             0.6666666666666666,
             "#ed7953"
            ],
            [
             0.7777777777777778,
             "#fb9f3a"
            ],
            [
             0.8888888888888888,
             "#fdca26"
            ],
            [
             1,
             "#f0f921"
            ]
           ],
           "sequentialminus": [
            [
             0,
             "#0d0887"
            ],
            [
             0.1111111111111111,
             "#46039f"
            ],
            [
             0.2222222222222222,
             "#7201a8"
            ],
            [
             0.3333333333333333,
             "#9c179e"
            ],
            [
             0.4444444444444444,
             "#bd3786"
            ],
            [
             0.5555555555555556,
             "#d8576b"
            ],
            [
             0.6666666666666666,
             "#ed7953"
            ],
            [
             0.7777777777777778,
             "#fb9f3a"
            ],
            [
             0.8888888888888888,
             "#fdca26"
            ],
            [
             1,
             "#f0f921"
            ]
           ]
          },
          "colorway": [
           "#636efa",
           "#EF553B",
           "#00cc96",
           "#ab63fa",
           "#FFA15A",
           "#19d3f3",
           "#FF6692",
           "#B6E880",
           "#FF97FF",
           "#FECB52"
          ],
          "font": {
           "color": "#2a3f5f"
          },
          "geo": {
           "bgcolor": "white",
           "lakecolor": "white",
           "landcolor": "#E5ECF6",
           "showlakes": true,
           "showland": true,
           "subunitcolor": "white"
          },
          "hoverlabel": {
           "align": "left"
          },
          "hovermode": "closest",
          "mapbox": {
           "style": "light"
          },
          "paper_bgcolor": "white",
          "plot_bgcolor": "#E5ECF6",
          "polar": {
           "angularaxis": {
            "gridcolor": "white",
            "linecolor": "white",
            "ticks": ""
           },
           "bgcolor": "#E5ECF6",
           "radialaxis": {
            "gridcolor": "white",
            "linecolor": "white",
            "ticks": ""
           }
          },
          "scene": {
           "xaxis": {
            "backgroundcolor": "#E5ECF6",
            "gridcolor": "white",
            "gridwidth": 2,
            "linecolor": "white",
            "showbackground": true,
            "ticks": "",
            "zerolinecolor": "white"
           },
           "yaxis": {
            "backgroundcolor": "#E5ECF6",
            "gridcolor": "white",
            "gridwidth": 2,
            "linecolor": "white",
            "showbackground": true,
            "ticks": "",
            "zerolinecolor": "white"
           },
           "zaxis": {
            "backgroundcolor": "#E5ECF6",
            "gridcolor": "white",
            "gridwidth": 2,
            "linecolor": "white",
            "showbackground": true,
            "ticks": "",
            "zerolinecolor": "white"
           }
          },
          "shapedefaults": {
           "line": {
            "color": "#2a3f5f"
           }
          },
          "ternary": {
           "aaxis": {
            "gridcolor": "white",
            "linecolor": "white",
            "ticks": ""
           },
           "baxis": {
            "gridcolor": "white",
            "linecolor": "white",
            "ticks": ""
           },
           "bgcolor": "#E5ECF6",
           "caxis": {
            "gridcolor": "white",
            "linecolor": "white",
            "ticks": ""
           }
          },
          "title": {
           "x": 0.05
          },
          "xaxis": {
           "automargin": true,
           "gridcolor": "white",
           "linecolor": "white",
           "ticks": "",
           "title": {
            "standoff": 15
           },
           "zerolinecolor": "white",
           "zerolinewidth": 2
          },
          "yaxis": {
           "automargin": true,
           "gridcolor": "white",
           "linecolor": "white",
           "ticks": "",
           "title": {
            "standoff": 15
           },
           "zerolinecolor": "white",
           "zerolinewidth": 2
          }
         }
        },
        "title": {
         "text": "Infected amount with government action and changepoint"
        },
        "width": 1500,
        "xaxis": {
         "autorange": false,
         "range": [
          "2019-11-10 16:06:50.1267",
          "2020-06-22 16:44:48.6077"
         ],
         "title": {
          "text": "Date"
         },
         "type": "date"
        },
        "yaxis": {
         "autorange": false,
         "range": [
          -3072.777506112469,
          14806.831295843516
         ],
         "title": {
          "text": "Amount of people infected"
         },
         "type": "linear"
        }
       }
      },
      "image/png": "[encoded data removed]",
      "text/html": [
       "<div>                            <div id=\"3be3e232-9af1-4ad3-b7f0-e15c63a54a5b\" class=\"plotly-graph-div\" style=\"height:1000px; width:1500px;\"></div>            <script type=\"text/javascript\">                require([\"plotly\"], function(Plotly) {                    window.PLOTLYENV=window.PLOTLYENV || {};                                    if (document.getElementById(\"3be3e232-9af1-4ad3-b7f0-e15c63a54a5b\")) {                    Plotly.newPlot(                        \"3be3e232-9af1-4ad3-b7f0-e15c63a54a5b\",                        [{\"name\": \"Observed data\", \"type\": \"scatter\", \"x\": [\"2020-01-27T00:00:00\", \"2020-01-28T00:00:00\", \"2020-01-29T00:00:00\", \"2020-01-30T00:00:00\", \"2020-01-31T00:00:00\", \"2020-02-01T00:00:00\", \"2020-02-02T00:00:00\", \"2020-02-03T00:00:00\", \"2020-02-04T00:00:00\", \"2020-02-05T00:00:00\", \"2020-02-06T00:00:00\", \"2020-02-07T00:00:00\", \"2020-02-08T00:00:00\", \"2020-02-09T00:00:00\", \"2020-02-10T00:00:00\", \"2020-02-11T00:00:00\", \"2020-02-12T00:00:00\", \"2020-02-13T00:00:00\", \"2020-02-14T00:00:00\", \"2020-02-15T00:00:00\", \"2020-02-16T00:00:00\", \"2020-02-17T00:00:00\", \"2020-02-18T00:00:00\", \"2020-02-19T00:00:00\", \"2020-02-20T00:00:00\", \"2020-02-21T00:00:00\", \"2020-02-22T00:00:00\", \"2020-02-23T00:00:00\", \"2020-02-24T00:00:00\", \"2020-02-25T00:00:00\", \"2020-02-26T00:00:00\", \"2020-02-27T00:00:00\", \"2020-02-28T00:00:00\", \"2020-02-29T00:00:00\", \"2020-03-01T00:00:00\", \"2020-03-02T00:00:00\", \"2020-03-03T00:00:00\", \"2020-03-04T00:00:00\", \"2020-03-05T00:00:00\", \"2020-03-06T00:00:00\", \"2020-03-07T00:00:00\", \"2020-03-08T00:00:00\", \"2020-03-09T00:00:00\", \"2020-03-10T00:00:00\", \"2020-03-11T00:00:00\", \"2020-03-12T00:00:00\", \"2020-03-13T00:00:00\", \"2020-03-14T00:00:00\", \"2020-03-15T00:00:00\", \"2020-03-16T00:00:00\", \"2020-03-17T00:00:00\", \"2020-03-18T00:00:00\", \"2020-03-19T00:00:00\", \"2020-03-20T00:00:00\", \"2020-03-21T00:00:00\", \"2020-03-22T00:00:00\", \"2020-03-23T00:00:00\", \"2020-03-24T00:00:00\", \"2020-03-25T00:00:00\", \"2020-03-26T00:00:00\", \"2020-03-27T00:00:00\", \"2020-03-28T00:00:00\", \"2020-03-29T00:00:00\", \"2020-03-30T00:00:00\", \"2020-03-31T00:00:00\", \"2020-04-01T00:00:00\", \"2020-04-02T00:00:00\", \"2020-04-03T00:00:00\", \"2020-04-04T00:00:00\", \"2020-04-05T00:00:00\", \"2020-04-06T00:00:00\", \"2020-04-07T00:00:00\", \"2020-04-08T00:00:00\", \"2020-04-09T00:00:00\", \"2020-04-10T00:00:00\", \"2020-04-11T00:00:00\", \"2020-04-12T00:00:00\", \"2020-04-13T00:00:00\", \"2020-04-14T00:00:00\", \"2020-04-15T00:00:00\", \"2020-04-16T00:00:00\", \"2020-04-17T00:00:00\", \"2020-04-18T00:00:00\", \"2020-04-19T00:00:00\", \"2020-04-20T00:00:00\", \"2020-04-21T00:00:00\", \"2020-04-22T00:00:00\", \"2020-04-23T00:00:00\", \"2020-04-24T00:00:00\", \"2020-04-25T00:00:00\", \"2020-04-26T00:00:00\", \"2020-04-27T00:00:00\", \"2020-04-28T00:00:00\", \"2020-04-29T00:00:00\", \"2020-04-30T00:00:00\", \"2020-05-01T00:00:00\", \"2020-05-02T00:00:00\", \"2020-05-03T00:00:00\", \"2020-05-04T00:00:00\", \"2020-05-05T00:00:00\", \"2020-05-06T00:00:00\", \"2020-05-07T00:00:00\", \"2020-05-08T00:00:00\", \"2020-05-09T00:00:00\", \"2020-05-10T00:00:00\", \"2020-05-11T00:00:00\", \"2020-05-12T00:00:00\", \"2020-05-13T00:00:00\", \"2020-05-14T00:00:00\", \"2020-05-15T00:00:00\", \"2020-05-16T00:00:00\", \"2020-05-17T00:00:00\", \"2020-05-18T00:00:00\", \"2020-05-19T00:00:00\", \"2020-05-20T00:00:00\", \"2020-05-21T00:00:00\", \"2020-05-22T00:00:00\", \"2020-05-23T00:00:00\", \"2020-05-24T00:00:00\", \"2020-05-25T00:00:00\", \"2020-05-26T00:00:00\", \"2020-05-27T00:00:00\", \"2020-05-28T00:00:00\", \"2020-05-29T00:00:00\", \"2020-05-30T00:00:00\", \"2020-05-31T00:00:00\", \"2020-06-01T00:00:00\", \"2020-06-02T00:00:00\", \"2020-06-03T00:00:00\", \"2020-06-04T00:00:00\", \"2020-06-05T00:00:00\", \"2020-06-06T00:00:00\", \"2020-06-07T00:00:00\", \"2020-06-08T00:00:00\", \"2020-06-09T00:00:00\", \"2020-06-10T00:00:00\", \"2020-06-11T00:00:00\", \"2020-06-12T00:00:00\", \"2020-06-13T00:00:00\", \"2020-06-14T00:00:00\", \"2020-06-15T00:00:00\", \"2020-06-16T00:00:00\", \"2020-06-17T00:00:00\", \"2020-06-18T00:00:00\", \"2020-06-19T00:00:00\", \"2020-06-20T00:00:00\", \"2020-06-21T00:00:00\", \"2020-06-22T00:00:00\", \"2020-06-23T00:00:00\", \"2020-06-24T00:00:00\"], \"y\": [0, 0, 0, 0, 0, 0, 0, 0, 0, 0, 0, 0, 0, 0, 0, 0, 0, 0, 0, 0, 0, 0, 0, 0, 0, 0, 0, 0, 0, 0, 0, 0, 0, 0, 3, 3, 5, 6, 9, 20, 27, 33, 39, 64, 95, 117, 142, 190, 299, 384, 451, 561, 767, 891, 1050, 1165, 1291, 1476, 1768, 2027, 2404, 2667, 2826, 3010, 3314, 3597, 3865, 4198, 4481, 4598, 4834, 5030, 5324, 5581, 5744, 5914, 6003, 6071, 6153, 6313, 6445, 6561, 6666, 6758, 6912, 7045, 7144, 7199, 7285, 7364, 7416, 7457, 7517, 7592, 7696, 7751, 7769, 7795, 7833, 7910, 7989, 8047, 8093, 8111, 8139, 8195, 8240, 8290, 8372, 8427, 8478, 8498, 8611, 8673, 8747, 8782, 8841, 8918, 8983, 9030, 9081, 9118, 9172, 9229, 9263, 9301, 9335, 9398, 9472, 9533, 9568, 9606, 9667, 9736, 9791, 9864, 9928, 9980, 10033, 10066, 10106, 10153, 10204, 10322, 10448, 10490, 10540, 10604, 10693, 10820]}, {\"mode\": \"markers\", \"name\": \"Government actions\", \"text\": [\"Measures to reduce the risks of cross-border movement of persons have<br>been gradually adopted and strengthened\", \"All primary, secondary, higher vocational and university schools in<br>the Czech Republic were closed until further notice.\", \"On March 12, from 2 pm, a state of emergency was declared in the Czech<br>Republic for a period of 30 days.\", \"The operation of restaurants and shops was banned (with exceptions).\", \"State borders have been closed, with few exceptions\", \"An obligation to cover her mouth and nose outside the residence has<br>been declared\", \"Extension of the state of emergency\", \"The first of four releases of quarantine measures according to the<br>Schedule for the release of business and other activities took place.\", \"The government issued a revised release schedule of business<br>activities\", \"extension of the state of emergency until 17 May 2020.\", \"group events with the participation of up to 100 people were allowed.<br>Open hairdressing, etc.\", \"indoor spaces such as cafes, restaurants, zoos, castles and chateaux<br>were opened. Mass events for up to 300 people are allowed\", \"former Deputy Minister of Health Roman Prymula has left\", \"Zacatek drhe vlny\", \"epidemiologist Rastislav Ma\\u010far ended up in a working group of the<br>Minister of Health.\"], \"textposition\": \"top left\", \"type\": \"scatter\", \"x\": [\"2020-03-02T00:00:00\", \"2020-03-11T00:00:00\", \"2020-03-12T00:00:00\", \"2020-03-14T00:00:00\", \"2020-03-16T00:00:00\", \"2020-03-19T00:00:00\", \"2020-04-07T00:00:00\", \"2020-04-20T00:00:00\", \"2020-04-24T00:00:00\", \"2020-04-28T00:00:00\", \"2020-05-11T00:00:00\", \"2020-05-25T00:00:00\", \"2020-05-31T00:00:00\", \"2020-06-01T00:00:00\", \"2020-08-24T00:00:00\"], \"y\": [3, 95, 117, 190, 384, 767, 5030, 6912, 7285, 7517, 8195, 9030, 9301, 9335, 22198]}, {\"mode\": \"markers\", \"name\": \"Changepoints\", \"type\": \"scatter\", \"x\": [\"2020-04-06T00:00:00\", \"2020-04-21T00:00:00\", \"2020-05-06T00:00:00\", \"2020-05-21T00:00:00\", \"2020-06-05T00:00:00\", \"2020-06-20T00:00:00\", \"2020-07-04T00:00:00\", \"2020-07-19T00:00:00\", \"2020-08-03T00:00:00\", \"2020-08-18T00:00:00\"], \"y\": [4834, 7045, 7989, 8782, 9568, 10490, 12480, 13981, 17018, 20506]}],                        {\"annotations\": [{\"align\": \"center\", \"arrowcolor\": \"#636363\", \"arrowhead\": 1, \"arrowsize\": 1, \"arrowwidth\": 1, \"ax\": -50, \"ay\": -50, \"bgcolor\": \"#ff7f0e\", \"bordercolor\": \"#c7c7c7\", \"borderpad\": 4, \"borderwidth\": 2, \"font\": {\"color\": \"#000000\", \"family\": \"Courier New, monospace\", \"size\": 18}, \"opacity\": 0.8, \"showarrow\": true, \"text\": \"Measures to reduce the risks of cross-border movement of persons have<br>been gradually adopted and strengthened\", \"x\": \"2020-03-02T00:00:00\", \"xref\": \"x\", \"y\": 3, \"yref\": \"y\"}, {\"align\": \"center\", \"arrowcolor\": \"#636363\", \"arrowhead\": 1, \"arrowsize\": 1, \"arrowwidth\": 1, \"ax\": 50, \"ay\": 50, \"bgcolor\": \"#ff7f0e\", \"bordercolor\": \"#c7c7c7\", \"borderpad\": 4, \"borderwidth\": 2, \"font\": {\"color\": \"#000000\", \"family\": \"Courier New, monospace\", \"size\": 18}, \"opacity\": 0.8, \"showarrow\": true, \"text\": \"All primary, secondary, higher vocational and university schools in<br>the Czech Republic were closed until further notice.\", \"x\": \"2020-03-11T00:00:00\", \"xref\": \"x\", \"y\": 95, \"yref\": \"y\"}, {\"align\": \"center\", \"arrowcolor\": \"#636363\", \"arrowhead\": 1, \"arrowsize\": 1, \"arrowwidth\": 1, \"ax\": -50, \"ay\": -50, \"bgcolor\": \"#ff7f0e\", \"bordercolor\": \"#c7c7c7\", \"borderpad\": 4, \"borderwidth\": 2, \"font\": {\"color\": \"#000000\", \"family\": \"Courier New, monospace\", \"size\": 18}, \"opacity\": 0.8, \"showarrow\": true, \"text\": \"On March 12, from 2 pm, a state of emergency was declared in the Czech<br>Republic for a period of 30 days.\", \"x\": \"2020-03-12T00:00:00\", \"xref\": \"x\", \"y\": 117, \"yref\": \"y\"}, {\"align\": \"center\", \"arrowcolor\": \"#636363\", \"arrowhead\": 1, \"arrowsize\": 1, \"arrowwidth\": 1, \"ax\": 50, \"ay\": 50, \"bgcolor\": \"#ff7f0e\", \"bordercolor\": \"#c7c7c7\", \"borderpad\": 4, \"borderwidth\": 2, \"font\": {\"color\": \"#000000\", \"family\": \"Courier New, monospace\", \"size\": 18}, \"opacity\": 0.8, \"showarrow\": true, \"text\": \"The operation of restaurants and shops was banned (with exceptions).\", \"x\": \"2020-03-14T00:00:00\", \"xref\": \"x\", \"y\": 190, \"yref\": \"y\"}, {\"align\": \"center\", \"arrowcolor\": \"#636363\", \"arrowhead\": 1, \"arrowsize\": 1, \"arrowwidth\": 1, \"ax\": -50, \"ay\": -50, \"bgcolor\": \"#ff7f0e\", \"bordercolor\": \"#c7c7c7\", \"borderpad\": 4, \"borderwidth\": 2, \"font\": {\"color\": \"#000000\", \"family\": \"Courier New, monospace\", \"size\": 18}, \"opacity\": 0.8, \"showarrow\": true, \"text\": \"State borders have been closed, with few exceptions\", \"x\": \"2020-03-16T00:00:00\", \"xref\": \"x\", \"y\": 384, \"yref\": \"y\"}, {\"align\": \"center\", \"arrowcolor\": \"#636363\", \"arrowhead\": 1, \"arrowsize\": 1, \"arrowwidth\": 1, \"ax\": 50, \"ay\": 50, \"bgcolor\": \"#ff7f0e\", \"bordercolor\": \"#c7c7c7\", \"borderpad\": 4, \"borderwidth\": 2, \"font\": {\"color\": \"#000000\", \"family\": \"Courier New, monospace\", \"size\": 18}, \"opacity\": 0.8, \"showarrow\": true, \"text\": \"An obligation to cover her mouth and nose outside the residence has<br>been declared\", \"x\": \"2020-03-19T00:00:00\", \"xref\": \"x\", \"y\": 767, \"yref\": \"y\"}, {\"align\": \"center\", \"arrowcolor\": \"#636363\", \"arrowhead\": 1, \"arrowsize\": 1, \"arrowwidth\": 1, \"ax\": -50, \"ay\": -50, \"bgcolor\": \"#ff7f0e\", \"bordercolor\": \"#c7c7c7\", \"borderpad\": 4, \"borderwidth\": 2, \"font\": {\"color\": \"#000000\", \"family\": \"Courier New, monospace\", \"size\": 18}, \"opacity\": 0.8, \"showarrow\": true, \"text\": \"Extension of the state of emergency\", \"x\": \"2020-04-07T00:00:00\", \"xref\": \"x\", \"y\": 5030, \"yref\": \"y\"}, {\"align\": \"center\", \"arrowcolor\": \"#636363\", \"arrowhead\": 1, \"arrowsize\": 1, \"arrowwidth\": 1, \"ax\": 50, \"ay\": 50, \"bgcolor\": \"#ff7f0e\", \"bordercolor\": \"#c7c7c7\", \"borderpad\": 4, \"borderwidth\": 2, \"font\": {\"color\": \"#000000\", \"family\": \"Courier New, monospace\", \"size\": 18}, \"opacity\": 0.8, \"showarrow\": true, \"text\": \"The first of four releases of quarantine measures according to the<br>Schedule for the release of business and other activities took place.\", \"x\": \"2020-04-20T00:00:00\", \"xref\": \"x\", \"y\": 6912, \"yref\": \"y\"}, {\"align\": \"center\", \"arrowcolor\": \"#636363\", \"arrowhead\": 1, \"arrowsize\": 1, \"arrowwidth\": 1, \"ax\": -50, \"ay\": -50, \"bgcolor\": \"#ff7f0e\", \"bordercolor\": \"#c7c7c7\", \"borderpad\": 4, \"borderwidth\": 2, \"font\": {\"color\": \"#000000\", \"family\": \"Courier New, monospace\", \"size\": 18}, \"opacity\": 0.8, \"showarrow\": true, \"text\": \"The government issued a revised release schedule of business<br>activities\", \"x\": \"2020-04-24T00:00:00\", \"xref\": \"x\", \"y\": 7285, \"yref\": \"y\"}, {\"align\": \"center\", \"arrowcolor\": \"#636363\", \"arrowhead\": 1, \"arrowsize\": 1, \"arrowwidth\": 1, \"ax\": 50, \"ay\": 50, \"bgcolor\": \"#ff7f0e\", \"bordercolor\": \"#c7c7c7\", \"borderpad\": 4, \"borderwidth\": 2, \"font\": {\"color\": \"#000000\", \"family\": \"Courier New, monospace\", \"size\": 18}, \"opacity\": 0.8, \"showarrow\": true, \"text\": \"extension of the state of emergency until 17 May 2020.\", \"x\": \"2020-04-28T00:00:00\", \"xref\": \"x\", \"y\": 7517, \"yref\": \"y\"}, {\"align\": \"center\", \"arrowcolor\": \"#636363\", \"arrowhead\": 1, \"arrowsize\": 1, \"arrowwidth\": 1, \"ax\": -50, \"ay\": -50, \"bgcolor\": \"#ff7f0e\", \"bordercolor\": \"#c7c7c7\", \"borderpad\": 4, \"borderwidth\": 2, \"font\": {\"color\": \"#000000\", \"family\": \"Courier New, monospace\", \"size\": 18}, \"opacity\": 0.8, \"showarrow\": true, \"text\": \"group events with the participation of up to 100 people were allowed.<br>Open hairdressing, etc.\", \"x\": \"2020-05-11T00:00:00\", \"xref\": \"x\", \"y\": 8195, \"yref\": \"y\"}, {\"align\": \"center\", \"arrowcolor\": \"#636363\", \"arrowhead\": 1, \"arrowsize\": 1, \"arrowwidth\": 1, \"ax\": 50, \"ay\": 50, \"bgcolor\": \"#ff7f0e\", \"bordercolor\": \"#c7c7c7\", \"borderpad\": 4, \"borderwidth\": 2, \"font\": {\"color\": \"#000000\", \"family\": \"Courier New, monospace\", \"size\": 18}, \"opacity\": 0.8, \"showarrow\": true, \"text\": \"indoor spaces such as cafes, restaurants, zoos, castles and chateaux<br>were opened. Mass events for up to 300 people are allowed\", \"x\": \"2020-05-25T00:00:00\", \"xref\": \"x\", \"y\": 9030, \"yref\": \"y\"}, {\"align\": \"center\", \"arrowcolor\": \"#636363\", \"arrowhead\": 1, \"arrowsize\": 1, \"arrowwidth\": 1, \"ax\": -50, \"ay\": -50, \"bgcolor\": \"#ff7f0e\", \"bordercolor\": \"#c7c7c7\", \"borderpad\": 4, \"borderwidth\": 2, \"font\": {\"color\": \"#000000\", \"family\": \"Courier New, monospace\", \"size\": 18}, \"opacity\": 0.8, \"showarrow\": true, \"text\": \"former Deputy Minister of Health Roman Prymula has left\", \"x\": \"2020-05-31T00:00:00\", \"xref\": \"x\", \"y\": 9301, \"yref\": \"y\"}, {\"align\": \"center\", \"arrowcolor\": \"#636363\", \"arrowhead\": 1, \"arrowsize\": 1, \"arrowwidth\": 1, \"ax\": 50, \"ay\": 50, \"bgcolor\": \"#ff7f0e\", \"bordercolor\": \"#c7c7c7\", \"borderpad\": 4, \"borderwidth\": 2, \"font\": {\"color\": \"#000000\", \"family\": \"Courier New, monospace\", \"size\": 18}, \"opacity\": 0.8, \"showarrow\": true, \"text\": \"Zacatek drhe vlny\", \"x\": \"2020-06-01T00:00:00\", \"xref\": \"x\", \"y\": 9335, \"yref\": \"y\"}, {\"align\": \"center\", \"arrowcolor\": \"#636363\", \"arrowhead\": 1, \"arrowsize\": 1, \"arrowwidth\": 1, \"ax\": -50, \"ay\": -50, \"bgcolor\": \"#ff7f0e\", \"bordercolor\": \"#c7c7c7\", \"borderpad\": 4, \"borderwidth\": 2, \"font\": {\"color\": \"#000000\", \"family\": \"Courier New, monospace\", \"size\": 18}, \"opacity\": 0.8, \"showarrow\": true, \"text\": \"epidemiologist Rastislav Ma\\u010far ended up in a working group of the<br>Minister of Health.\", \"x\": \"2020-08-24T00:00:00\", \"xref\": \"x\", \"y\": 22198, \"yref\": \"y\"}], \"autosize\": false, \"height\": 1000, \"shapes\": [{\"line\": {\"color\": \"Green\", \"dash\": \"dash\", \"width\": 2}, \"name\": \"Changepoint\", \"type\": \"line\", \"x0\": \"2020-04-06T00:00:00\", \"x1\": \"2020-04-06T00:00:00\", \"xref\": \"x\", \"y0\": -5166, \"y1\": 14834, \"yref\": \"y\"}, {\"line\": {\"color\": \"Green\", \"dash\": \"dash\", \"width\": 2}, \"name\": \"Changepoint\", \"type\": \"line\", \"x0\": \"2020-04-21T00:00:00\", \"x1\": \"2020-04-21T00:00:00\", \"xref\": \"x\", \"y0\": -2955, \"y1\": 17045, \"yref\": \"y\"}, {\"line\": {\"color\": \"Green\", \"dash\": \"dash\", \"width\": 2}, \"name\": \"Changepoint\", \"type\": \"line\", \"x0\": \"2020-05-06T00:00:00\", \"x1\": \"2020-05-06T00:00:00\", \"xref\": \"x\", \"y0\": -2011, \"y1\": 17989, \"yref\": \"y\"}, {\"line\": {\"color\": \"Green\", \"dash\": \"dash\", \"width\": 2}, \"name\": \"Changepoint\", \"type\": \"line\", \"x0\": \"2020-05-21T00:00:00\", \"x1\": \"2020-05-21T00:00:00\", \"xref\": \"x\", \"y0\": -1218, \"y1\": 18782, \"yref\": \"y\"}, {\"line\": {\"color\": \"Green\", \"dash\": \"dash\", \"width\": 2}, \"name\": \"Changepoint\", \"type\": \"line\", \"x0\": \"2020-06-05T00:00:00\", \"x1\": \"2020-06-05T00:00:00\", \"xref\": \"x\", \"y0\": -432, \"y1\": 19568, \"yref\": \"y\"}, {\"line\": {\"color\": \"Green\", \"dash\": \"dash\", \"width\": 2}, \"name\": \"Changepoint\", \"type\": \"line\", \"x0\": \"2020-06-20T00:00:00\", \"x1\": \"2020-06-20T00:00:00\", \"xref\": \"x\", \"y0\": 490, \"y1\": 20490, \"yref\": \"y\"}, {\"line\": {\"color\": \"Green\", \"dash\": \"dash\", \"width\": 2}, \"name\": \"Changepoint\", \"type\": \"line\", \"x0\": \"2020-07-04T00:00:00\", \"x1\": \"2020-07-04T00:00:00\", \"xref\": \"x\", \"y0\": 2480, \"y1\": 22480, \"yref\": \"y\"}, {\"line\": {\"color\": \"Green\", \"dash\": \"dash\", \"width\": 2}, \"name\": \"Changepoint\", \"type\": \"line\", \"x0\": \"2020-07-19T00:00:00\", \"x1\": \"2020-07-19T00:00:00\", \"xref\": \"x\", \"y0\": 3981, \"y1\": 23981, \"yref\": \"y\"}, {\"line\": {\"color\": \"Green\", \"dash\": \"dash\", \"width\": 2}, \"name\": \"Changepoint\", \"type\": \"line\", \"x0\": \"2020-08-03T00:00:00\", \"x1\": \"2020-08-03T00:00:00\", \"xref\": \"x\", \"y0\": 7018, \"y1\": 27018, \"yref\": \"y\"}, {\"line\": {\"color\": \"Green\", \"dash\": \"dash\", \"width\": 2}, \"name\": \"Changepoint\", \"type\": \"line\", \"x0\": \"2020-08-18T00:00:00\", \"x1\": \"2020-08-18T00:00:00\", \"xref\": \"x\", \"y0\": 10506, \"y1\": 30506, \"yref\": \"y\"}], \"template\": {\"data\": {\"bar\": [{\"error_x\": {\"color\": \"#2a3f5f\"}, \"error_y\": {\"color\": \"#2a3f5f\"}, \"marker\": {\"line\": {\"color\": \"#E5ECF6\", \"width\": 0.5}}, \"type\": \"bar\"}], \"barpolar\": [{\"marker\": {\"line\": {\"color\": \"#E5ECF6\", \"width\": 0.5}}, \"type\": \"barpolar\"}], \"carpet\": [{\"aaxis\": {\"endlinecolor\": \"#2a3f5f\", \"gridcolor\": \"white\", \"linecolor\": \"white\", \"minorgridcolor\": \"white\", \"startlinecolor\": \"#2a3f5f\"}, \"baxis\": {\"endlinecolor\": \"#2a3f5f\", \"gridcolor\": \"white\", \"linecolor\": \"white\", \"minorgridcolor\": \"white\", \"startlinecolor\": \"#2a3f5f\"}, \"type\": \"carpet\"}], \"choropleth\": [{\"colorbar\": {\"outlinewidth\": 0, \"ticks\": \"\"}, \"type\": \"choropleth\"}], \"contour\": [{\"colorbar\": {\"outlinewidth\": 0, \"ticks\": \"\"}, \"colorscale\": [[0.0, \"#0d0887\"], [0.1111111111111111, \"#46039f\"], [0.2222222222222222, \"#7201a8\"], [0.3333333333333333, \"#9c179e\"], [0.4444444444444444, \"#bd3786\"], [0.5555555555555556, \"#d8576b\"], [0.6666666666666666, \"#ed7953\"], [0.7777777777777778, \"#fb9f3a\"], [0.8888888888888888, \"#fdca26\"], [1.0, \"#f0f921\"]], \"type\": \"contour\"}], \"contourcarpet\": [{\"colorbar\": {\"outlinewidth\": 0, \"ticks\": \"\"}, \"type\": \"contourcarpet\"}], \"heatmap\": [{\"colorbar\": {\"outlinewidth\": 0, \"ticks\": \"\"}, \"colorscale\": [[0.0, \"#0d0887\"], [0.1111111111111111, \"#46039f\"], [0.2222222222222222, \"#7201a8\"], [0.3333333333333333, \"#9c179e\"], [0.4444444444444444, \"#bd3786\"], [0.5555555555555556, \"#d8576b\"], [0.6666666666666666, \"#ed7953\"], [0.7777777777777778, \"#fb9f3a\"], [0.8888888888888888, \"#fdca26\"], [1.0, \"#f0f921\"]], \"type\": \"heatmap\"}], \"heatmapgl\": [{\"colorbar\": {\"outlinewidth\": 0, \"ticks\": \"\"}, \"colorscale\": [[0.0, \"#0d0887\"], [0.1111111111111111, \"#46039f\"], [0.2222222222222222, \"#7201a8\"], [0.3333333333333333, \"#9c179e\"], [0.4444444444444444, \"#bd3786\"], [0.5555555555555556, \"#d8576b\"], [0.6666666666666666, \"#ed7953\"], [0.7777777777777778, \"#fb9f3a\"], [0.8888888888888888, \"#fdca26\"], [1.0, \"#f0f921\"]], \"type\": \"heatmapgl\"}], \"histogram\": [{\"marker\": {\"colorbar\": {\"outlinewidth\": 0, \"ticks\": \"\"}}, \"type\": \"histogram\"}], \"histogram2d\": [{\"colorbar\": {\"outlinewidth\": 0, \"ticks\": \"\"}, \"colorscale\": [[0.0, \"#0d0887\"], [0.1111111111111111, \"#46039f\"], [0.2222222222222222, \"#7201a8\"], [0.3333333333333333, \"#9c179e\"], [0.4444444444444444, \"#bd3786\"], [0.5555555555555556, \"#d8576b\"], [0.6666666666666666, \"#ed7953\"], [0.7777777777777778, \"#fb9f3a\"], [0.8888888888888888, \"#fdca26\"], [1.0, \"#f0f921\"]], \"type\": \"histogram2d\"}], \"histogram2dcontour\": [{\"colorbar\": {\"outlinewidth\": 0, \"ticks\": \"\"}, \"colorscale\": [[0.0, \"#0d0887\"], [0.1111111111111111, \"#46039f\"], [0.2222222222222222, \"#7201a8\"], [0.3333333333333333, \"#9c179e\"], [0.4444444444444444, \"#bd3786\"], [0.5555555555555556, \"#d8576b\"], [0.6666666666666666, \"#ed7953\"], [0.7777777777777778, \"#fb9f3a\"], [0.8888888888888888, \"#fdca26\"], [1.0, \"#f0f921\"]], \"type\": \"histogram2dcontour\"}], \"mesh3d\": [{\"colorbar\": {\"outlinewidth\": 0, \"ticks\": \"\"}, \"type\": \"mesh3d\"}], \"parcoords\": [{\"line\": {\"colorbar\": {\"outlinewidth\": 0, \"ticks\": \"\"}}, \"type\": \"parcoords\"}], \"pie\": [{\"automargin\": true, \"type\": \"pie\"}], \"scatter\": [{\"marker\": {\"colorbar\": {\"outlinewidth\": 0, \"ticks\": \"\"}}, \"type\": \"scatter\"}], \"scatter3d\": [{\"line\": {\"colorbar\": {\"outlinewidth\": 0, \"ticks\": \"\"}}, \"marker\": {\"colorbar\": {\"outlinewidth\": 0, \"ticks\": \"\"}}, \"type\": \"scatter3d\"}], \"scattercarpet\": [{\"marker\": {\"colorbar\": {\"outlinewidth\": 0, \"ticks\": \"\"}}, \"type\": \"scattercarpet\"}], \"scattergeo\": [{\"marker\": {\"colorbar\": {\"outlinewidth\": 0, \"ticks\": \"\"}}, \"type\": \"scattergeo\"}], \"scattergl\": [{\"marker\": {\"colorbar\": {\"outlinewidth\": 0, \"ticks\": \"\"}}, \"type\": \"scattergl\"}], \"scattermapbox\": [{\"marker\": {\"colorbar\": {\"outlinewidth\": 0, \"ticks\": \"\"}}, \"type\": \"scattermapbox\"}], \"scatterpolar\": [{\"marker\": {\"colorbar\": {\"outlinewidth\": 0, \"ticks\": \"\"}}, \"type\": \"scatterpolar\"}], \"scatterpolargl\": [{\"marker\": {\"colorbar\": {\"outlinewidth\": 0, \"ticks\": \"\"}}, \"type\": \"scatterpolargl\"}], \"scatterternary\": [{\"marker\": {\"colorbar\": {\"outlinewidth\": 0, \"ticks\": \"\"}}, \"type\": \"scatterternary\"}], \"surface\": [{\"colorbar\": {\"outlinewidth\": 0, \"ticks\": \"\"}, \"colorscale\": [[0.0, \"#0d0887\"], [0.1111111111111111, \"#46039f\"], [0.2222222222222222, \"#7201a8\"], [0.3333333333333333, \"#9c179e\"], [0.4444444444444444, \"#bd3786\"], [0.5555555555555556, \"#d8576b\"], [0.6666666666666666, \"#ed7953\"], [0.7777777777777778, \"#fb9f3a\"], [0.8888888888888888, \"#fdca26\"], [1.0, \"#f0f921\"]], \"type\": \"surface\"}], \"table\": [{\"cells\": {\"fill\": {\"color\": \"#EBF0F8\"}, \"line\": {\"color\": \"white\"}}, \"header\": {\"fill\": {\"color\": \"#C8D4E3\"}, \"line\": {\"color\": \"white\"}}, \"type\": \"table\"}]}, \"layout\": {\"annotationdefaults\": {\"arrowcolor\": \"#2a3f5f\", \"arrowhead\": 0, \"arrowwidth\": 1}, \"autotypenumbers\": \"strict\", \"coloraxis\": {\"colorbar\": {\"outlinewidth\": 0, \"ticks\": \"\"}}, \"colorscale\": {\"diverging\": [[0, \"#8e0152\"], [0.1, \"#c51b7d\"], [0.2, \"#de77ae\"], [0.3, \"#f1b6da\"], [0.4, \"#fde0ef\"], [0.5, \"#f7f7f7\"], [0.6, \"#e6f5d0\"], [0.7, \"#b8e186\"], [0.8, \"#7fbc41\"], [0.9, \"#4d9221\"], [1, \"#276419\"]], \"sequential\": [[0.0, \"#0d0887\"], [0.1111111111111111, \"#46039f\"], [0.2222222222222222, \"#7201a8\"], [0.3333333333333333, \"#9c179e\"], [0.4444444444444444, \"#bd3786\"], [0.5555555555555556, \"#d8576b\"], [0.6666666666666666, \"#ed7953\"], [0.7777777777777778, \"#fb9f3a\"], [0.8888888888888888, \"#fdca26\"], [1.0, \"#f0f921\"]], \"sequentialminus\": [[0.0, \"#0d0887\"], [0.1111111111111111, \"#46039f\"], [0.2222222222222222, \"#7201a8\"], [0.3333333333333333, \"#9c179e\"], [0.4444444444444444, \"#bd3786\"], [0.5555555555555556, \"#d8576b\"], [0.6666666666666666, \"#ed7953\"], [0.7777777777777778, \"#fb9f3a\"], [0.8888888888888888, \"#fdca26\"], [1.0, \"#f0f921\"]]}, \"colorway\": [\"#636efa\", \"#EF553B\", \"#00cc96\", \"#ab63fa\", \"#FFA15A\", \"#19d3f3\", \"#FF6692\", \"#B6E880\", \"#FF97FF\", \"#FECB52\"], \"font\": {\"color\": \"#2a3f5f\"}, \"geo\": {\"bgcolor\": \"white\", \"lakecolor\": \"white\", \"landcolor\": \"#E5ECF6\", \"showlakes\": true, \"showland\": true, \"subunitcolor\": \"white\"}, \"hoverlabel\": {\"align\": \"left\"}, \"hovermode\": \"closest\", \"mapbox\": {\"style\": \"light\"}, \"paper_bgcolor\": \"white\", \"plot_bgcolor\": \"#E5ECF6\", \"polar\": {\"angularaxis\": {\"gridcolor\": \"white\", \"linecolor\": \"white\", \"ticks\": \"\"}, \"bgcolor\": \"#E5ECF6\", \"radialaxis\": {\"gridcolor\": \"white\", \"linecolor\": \"white\", \"ticks\": \"\"}}, \"scene\": {\"xaxis\": {\"backgroundcolor\": \"#E5ECF6\", \"gridcolor\": \"white\", \"gridwidth\": 2, \"linecolor\": \"white\", \"showbackground\": true, \"ticks\": \"\", \"zerolinecolor\": \"white\"}, \"yaxis\": {\"backgroundcolor\": \"#E5ECF6\", \"gridcolor\": \"white\", \"gridwidth\": 2, \"linecolor\": \"white\", \"showbackground\": true, \"ticks\": \"\", \"zerolinecolor\": \"white\"}, \"zaxis\": {\"backgroundcolor\": \"#E5ECF6\", \"gridcolor\": \"white\", \"gridwidth\": 2, \"linecolor\": \"white\", \"showbackground\": true, \"ticks\": \"\", \"zerolinecolor\": \"white\"}}, \"shapedefaults\": {\"line\": {\"color\": \"#2a3f5f\"}}, \"ternary\": {\"aaxis\": {\"gridcolor\": \"white\", \"linecolor\": \"white\", \"ticks\": \"\"}, \"baxis\": {\"gridcolor\": \"white\", \"linecolor\": \"white\", \"ticks\": \"\"}, \"bgcolor\": \"#E5ECF6\", \"caxis\": {\"gridcolor\": \"white\", \"linecolor\": \"white\", \"ticks\": \"\"}}, \"title\": {\"x\": 0.05}, \"xaxis\": {\"automargin\": true, \"gridcolor\": \"white\", \"linecolor\": \"white\", \"ticks\": \"\", \"title\": {\"standoff\": 15}, \"zerolinecolor\": \"white\", \"zerolinewidth\": 2}, \"yaxis\": {\"automargin\": true, \"gridcolor\": \"white\", \"linecolor\": \"white\", \"ticks\": \"\", \"title\": {\"standoff\": 15}, \"zerolinecolor\": \"white\", \"zerolinewidth\": 2}}}, \"title\": {\"text\": \"Infected amount with government action and changepoint\"}, \"width\": 1500, \"xaxis\": {\"title\": {\"text\": \"Date\"}}, \"yaxis\": {\"title\": {\"text\": \"Amount of people infected\"}}},                        {\"editable\": true, \"responsive\": true}                    ).then(function(){\n",
       "                            \n",
       "var gd = document.getElementById('3be3e232-9af1-4ad3-b7f0-e15c63a54a5b');\n",
       "var x = new MutationObserver(function (mutations, observer) {{\n",
       "        var display = window.getComputedStyle(gd).display;\n",
       "        if (!display || display === 'none') {{\n",
       "            console.log([gd, 'removed!']);\n",
       "            Plotly.purge(gd);\n",
       "            observer.disconnect();\n",
       "        }}\n",
       "}});\n",
       "\n",
       "// Listen for the removal of the full notebook cells\n",
       "var notebookContainer = gd.closest('#notebook-container');\n",
       "if (notebookContainer) {{\n",
       "    x.observe(notebookContainer, {childList: true});\n",
       "}}\n",
       "\n",
       "// Listen for the clearing of the current output cell\n",
       "var outputEl = gd.closest('.output');\n",
       "if (outputEl) {{\n",
       "    x.observe(outputEl, {childList: true});\n",
       "}}\n",
       "\n",
       "                        })                };                });            </script>        </div>"
      ]
     },
     "metadata": {},
     "output_type": "display_data"
    }
   ],
   "source": [
    "# Plot\n",
    "changepoints_gov_plot(infected[:150], changepoints_plot[:10], opatreni_plot[:15], \n",
    "                      yax='Amount of people infected', title='Infected amount with government action and changepoint',\n",
    "                     data_title='Observed data', changepoints_title='Changepoints', gov_title='Government actions')"
   ]
  },
  {
   "cell_type": "code",
   "execution_count": 80,
   "id": "novel-belize",
   "metadata": {},
   "outputs": [],
   "source": []
  }
 ],
 "metadata": {
  "kernelspec": {
   "display_name": "Python 3",
   "language": "python",
   "name": "python3"
  },
  "language_info": {
   "codemirror_mode": {
    "name": "ipython",
    "version": 3
   },
   "file_extension": ".py",
   "mimetype": "text/x-python",
   "name": "python",
   "nbconvert_exporter": "python",
   "pygments_lexer": "ipython3",
   "version": "3.7.6"
  }
 },
 "nbformat": 4,
 "nbformat_minor": 5
}
